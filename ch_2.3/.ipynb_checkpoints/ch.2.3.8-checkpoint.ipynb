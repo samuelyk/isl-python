{
 "cells": [
  {
   "cell_type": "code",
   "execution_count": 1,
   "id": "401bfdb7-abef-44aa-bf71-41bcbb0de169",
   "metadata": {},
   "outputs": [],
   "source": [
    "# 2.3.8 For Loops"
   ]
  },
  {
   "cell_type": "code",
   "execution_count": 16,
   "id": "9f9dde4c-5911-496e-a876-8618a0db72e8",
   "metadata": {},
   "outputs": [],
   "source": [
    "import numpy as np\n",
    "import pandas as pd"
   ]
  },
  {
   "cell_type": "code",
   "execution_count": 3,
   "id": "7e85d777-9a00-4427-a262-4bccbaf59190",
   "metadata": {},
   "outputs": [
    {
     "name": "stdout",
     "output_type": "stream",
     "text": [
      "Total is: 24\n"
     ]
    }
   ],
   "source": [
    "total = 0\n",
    "for value in [3,2,19]:\n",
    "    total += value\n",
    "print(f\"Total is: {total}\")"
   ]
  },
  {
   "cell_type": "code",
   "execution_count": 4,
   "id": "6b3daf06-0639-4b04-bf65-39916a0dcb1e",
   "metadata": {},
   "outputs": [
    {
     "name": "stdout",
     "output_type": "stream",
     "text": [
      "Weighted total is: 144\n"
     ]
    }
   ],
   "source": [
    "# nested for loop\n",
    "\n",
    "total = 0\n",
    "for value in [2,3,19]:\n",
    "    for weight in [3,2,1]:\n",
    "        total += value*weight\n",
    "print(f\"Weighted total is: {total}\")"
   ]
  },
  {
   "cell_type": "code",
   "execution_count": 9,
   "id": "1ebd2389-a0d1-4e0e-86eb-5e350ada61cb",
   "metadata": {},
   "outputs": [
    {
     "name": "stdout",
     "output_type": "stream",
     "text": [
      "[('Alex', 100, 'Math'), ('Sam', 89, 'History'), ('Sarah', 93, 'Science')]\n"
     ]
    }
   ],
   "source": [
    "# zip() function\n",
    "# Pair elements from two or more iterables element-wise\n",
    "\n",
    "a = ['Alex', 'Sam', 'Sarah']\n",
    "b = [100, 89, 93]\n",
    "c = ['Math', 'History', 'Science']\n",
    "zipped = zip(a,b,c)\n",
    "print(list(zipped))"
   ]
  },
  {
   "cell_type": "code",
   "execution_count": 12,
   "id": "21502b59-cb07-4d70-9af9-e7423e44fff0",
   "metadata": {},
   "outputs": [
    {
     "name": "stdout",
     "output_type": "stream",
     "text": [
      "('Alex', 'Sam', 'Sarah')\n",
      "(100, 89, 93)\n",
      "('Math', 'History', 'Science')\n"
     ]
    }
   ],
   "source": [
    "# unzip it\n",
    "\n",
    "zipped = list(zip(a,b,c))\n",
    "name, score, subject = zip(*zipped)\n",
    "print(name)\n",
    "print(score)\n",
    "print(subject)"
   ]
  },
  {
   "cell_type": "code",
   "execution_count": 13,
   "id": "bee72d3d-b6e9-46ae-8efb-29cfa9a762b5",
   "metadata": {},
   "outputs": [
    {
     "name": "stdout",
     "output_type": "stream",
     "text": [
      "Weighted average is: 10.8\n"
     ]
    }
   ],
   "source": [
    "# for loop with zip()\n",
    "\n",
    "total = 0\n",
    "possible_values = [2, 3, 19]\n",
    "probabilities = [0.2, 0.3, 0.5]\n",
    "for value, weight in zip(possible_values, probabilities):\n",
    "    total += value * weight\n",
    "print(f\"Weighted average is: {total}\")"
   ]
  },
  {
   "cell_type": "code",
   "execution_count": 20,
   "id": "b045996c-e22b-409a-8f30-87fe9d8d55f2",
   "metadata": {},
   "outputs": [
    {
     "data": {
      "text/html": [
       "<div>\n",
       "<style scoped>\n",
       "    .dataframe tbody tr th:only-of-type {\n",
       "        vertical-align: middle;\n",
       "    }\n",
       "\n",
       "    .dataframe tbody tr th {\n",
       "        vertical-align: top;\n",
       "    }\n",
       "\n",
       "    .dataframe thead th {\n",
       "        text-align: right;\n",
       "    }\n",
       "</style>\n",
       "<table border=\"1\" class=\"dataframe\">\n",
       "  <thead>\n",
       "    <tr style=\"text-align: right;\">\n",
       "      <th></th>\n",
       "      <th>food</th>\n",
       "      <th>bar</th>\n",
       "      <th>pickle</th>\n",
       "      <th>snack</th>\n",
       "      <th>popcorn</th>\n",
       "    </tr>\n",
       "  </thead>\n",
       "  <tbody>\n",
       "    <tr>\n",
       "      <th>0</th>\n",
       "      <td>0.345584</td>\n",
       "      <td>0.821618</td>\n",
       "      <td>0.330437</td>\n",
       "      <td>-1.303157</td>\n",
       "      <td>NaN</td>\n",
       "    </tr>\n",
       "    <tr>\n",
       "      <th>1</th>\n",
       "      <td>NaN</td>\n",
       "      <td>-0.536953</td>\n",
       "      <td>0.581118</td>\n",
       "      <td>0.364572</td>\n",
       "      <td>0.294132</td>\n",
       "    </tr>\n",
       "    <tr>\n",
       "      <th>2</th>\n",
       "      <td>NaN</td>\n",
       "      <td>0.546713</td>\n",
       "      <td>NaN</td>\n",
       "      <td>-0.162910</td>\n",
       "      <td>-0.482119</td>\n",
       "    </tr>\n",
       "  </tbody>\n",
       "</table>\n",
       "</div>"
      ],
      "text/plain": [
       "       food       bar    pickle     snack   popcorn\n",
       "0  0.345584  0.821618  0.330437 -1.303157       NaN\n",
       "1       NaN -0.536953  0.581118  0.364572  0.294132\n",
       "2       NaN  0.546713       NaN -0.162910 -0.482119"
      ]
     },
     "execution_count": 20,
     "metadata": {},
     "output_type": "execute_result"
    }
   ],
   "source": [
    "# String Formatting\n",
    "# Create an example data frame with columns in which 20% of the entries are missing\n",
    "\n",
    "rng = np.random.default_rng(1)\n",
    "A = rng.standard_normal((127, 5))\n",
    "\n",
    "# Randomly select elements from an array: [0, np.nan]\n",
    "# Probabilities for selecting each element are 0.8 & 0.2 respectively\n",
    "M = rng.choice([0, np.nan], p=[0.8, 0.2], size=A.shape)\n",
    "\n",
    "# Arithmetic operations with np.nan returns np.nan\n",
    "A += M\n",
    "\n",
    "D = pd.DataFrame(A, columns=['food', 'bar', 'pickle', 'snack', 'popcorn'])\n",
    "D[:3]"
   ]
  },
  {
   "cell_type": "code",
   "execution_count": 28,
   "id": "8b00d202-8cc3-4c7a-bb0c-d7fcb9876b74",
   "metadata": {},
   "outputs": [
    {
     "name": "stdout",
     "output_type": "stream",
     "text": [
      "Column \"food\" has 16.54% missing values\n",
      "Column \"bar\" has 25.98% missing values\n",
      "Column \"pickle\" has 29.13% missing values\n",
      "Column \"snack\" has 21.26% missing values\n",
      "Column \"popcorn\" has 22.83% missing values\n"
     ]
    }
   ],
   "source": [
    "for col in D.columns:\n",
    "    missing_ratio = np.isnan(D[col]).mean()\n",
    "    template = f\"Column \\\"{col}\\\" has {missing_ratio:.2%} missing values\"\n",
    "    print(template)"
   ]
  }
 ],
 "metadata": {
  "kernelspec": {
   "display_name": "Python 3 (ipykernel)",
   "language": "python",
   "name": "python3"
  },
  "language_info": {
   "codemirror_mode": {
    "name": "ipython",
    "version": 3
   },
   "file_extension": ".py",
   "mimetype": "text/x-python",
   "name": "python",
   "nbconvert_exporter": "python",
   "pygments_lexer": "ipython3",
   "version": "3.13.2"
  }
 },
 "nbformat": 4,
 "nbformat_minor": 5
}
