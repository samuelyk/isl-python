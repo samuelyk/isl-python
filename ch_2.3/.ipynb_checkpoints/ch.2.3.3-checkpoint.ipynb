{
 "cells": [
  {
   "cell_type": "code",
   "execution_count": 137,
   "id": "2fad8aae-7fb2-44c0-be58-c9f87cf24ebf",
   "metadata": {},
   "outputs": [],
   "source": [
    "# 2.3.3 Introduction to Numerical Python"
   ]
  },
  {
   "cell_type": "code",
   "execution_count": 138,
   "id": "a47ff1b6-53de-4760-8ec1-f70b0d5403ac",
   "metadata": {},
   "outputs": [],
   "source": [
    "import numpy as np"
   ]
  },
  {
   "cell_type": "code",
   "execution_count": 139,
   "id": "c25635c7-6236-41af-beef-b1011383f1ac",
   "metadata": {},
   "outputs": [],
   "source": [
    "x = np.array([1, 2, 3])\n",
    "y = np.array([3, 4, 5])"
   ]
  },
  {
   "cell_type": "code",
   "execution_count": 140,
   "id": "9dab7de2-b68f-4523-ac88-5b1882a91030",
   "metadata": {},
   "outputs": [
    {
     "data": {
      "text/plain": [
       "array([4, 6, 8])"
      ]
     },
     "execution_count": 140,
     "metadata": {},
     "output_type": "execute_result"
    }
   ],
   "source": [
    "x+y"
   ]
  },
  {
   "cell_type": "code",
   "execution_count": 141,
   "id": "c833cb83-8450-41b7-b48d-56774e5ba077",
   "metadata": {},
   "outputs": [],
   "source": [
    "# Create a two-dimensional array\n",
    "\n",
    "x = np.array([[1, 2], [3, 4]])"
   ]
  },
  {
   "cell_type": "code",
   "execution_count": 142,
   "id": "e79c9060-a889-4c8b-ae22-7f48e6fd3bdc",
   "metadata": {},
   "outputs": [
    {
     "data": {
      "text/plain": [
       "array([[1, 2],\n",
       "       [3, 4]])"
      ]
     },
     "execution_count": 142,
     "metadata": {},
     "output_type": "execute_result"
    }
   ],
   "source": [
    "x"
   ]
  },
  {
   "cell_type": "code",
   "execution_count": 143,
   "id": "3ad1219d-2fb9-4279-830a-490bfa5eade9",
   "metadata": {},
   "outputs": [
    {
     "name": "stdout",
     "output_type": "stream",
     "text": [
      "x is a 2-dimensional array.\n",
      "x is comprised of int64 data type.\n"
     ]
    }
   ],
   "source": [
    "# ndim, dtype attributes\n",
    "\n",
    "print(f\"x is a {x.ndim}-dimensional array.\")\n",
    "print(f\"x is comprised of {x.dtype} data type.\")"
   ]
  },
  {
   "cell_type": "code",
   "execution_count": 144,
   "id": "e325e182-c3cb-4022-b9fc-964fcc37f15d",
   "metadata": {},
   "outputs": [
    {
     "name": "stdout",
     "output_type": "stream",
     "text": [
      "y is comprised of float64 data type.\n",
      "z is comprised of float64 data type.\n"
     ]
    }
   ],
   "source": [
    "# Create a floating point array\n",
    "# Method 1: Include a floating point number\n",
    "\n",
    "y = np.array([[1, 2], [3.0, 4]])\n",
    "print(f\"y is comprised of {y.dtype} data type.\")\n",
    "\n",
    "# Method 2: Pass dtype argument into np.array()\n",
    "z = np.array([[1, 2] ,[3, 4], [5, 6]], float)\n",
    "print(f\"z is comprised of {z.dtype} data type.\")"
   ]
  },
  {
   "cell_type": "code",
   "execution_count": 145,
   "id": "9f9a55dc-596c-4956-b326-fff608975e00",
   "metadata": {},
   "outputs": [
    {
     "name": "stdout",
     "output_type": "stream",
     "text": [
      "(3, 2)\n",
      "z has 3 rows and 2 columns.\n"
     ]
    }
   ],
   "source": [
    "# Find out the number of rows and columns\n",
    "# shape always return a tuple\n",
    "\n",
    "print(z.shape)\n",
    "print(f\"z has {z.shape[0]} rows and {z.shape[1]} columns.\")"
   ]
  },
  {
   "cell_type": "code",
   "execution_count": 146,
   "id": "fa49596d-a5cf-41e3-baba-76d5f45a31e8",
   "metadata": {},
   "outputs": [
    {
     "name": "stdout",
     "output_type": "stream",
     "text": [
      "10\n",
      "21.0\n"
     ]
    }
   ],
   "source": [
    "# Get a sum of the elements\n",
    "\n",
    "print(x.sum())\n",
    "print(np.sum(z))"
   ]
  },
  {
   "cell_type": "code",
   "execution_count": 147,
   "id": "647e9459-3aeb-43ab-8221-92255a1851f3",
   "metadata": {},
   "outputs": [
    {
     "name": "stdout",
     "output_type": "stream",
     "text": [
      "Before reshaping x:\n",
      " [[1 2]\n",
      " [3 4]]\n",
      "After reshaping x:\n",
      " [[1 2 3 4]]\n"
     ]
    }
   ],
   "source": [
    "# Reshaping an array by passing a tuple (row_#, col_#)\n",
    "\n",
    "print(f\"Before reshaping x:\\n {x}\") \n",
    "print(\"After reshaping x:\\n\", x.reshape((1,4)))"
   ]
  },
  {
   "cell_type": "code",
   "execution_count": 148,
   "id": "79c89d5b-9a0e-423d-a243-5a9d2d7dd5e7",
   "metadata": {},
   "outputs": [
    {
     "name": "stdout",
     "output_type": "stream",
     "text": [
      "x is:\n",
      " [[1 2]\n",
      " [3 4]]\n",
      "x_reshape is:\n",
      " [[1 2 3 4]]\n",
      "\n",
      "x after update is:\n",
      " [[8 2]\n",
      " [3 4]]\n",
      "x_reshape after update is:\n",
      " [[8 2 3 4]]\n"
     ]
    }
   ],
   "source": [
    "# Modify the first element in the array x and x_reshape\n",
    "# Both x & x_reshape are modified since they occupy the same\n",
    "# space in memory.\n",
    "\n",
    "print(\"x is:\\n\", x)\n",
    "\n",
    "x_reshape = x.reshape((1,4))\n",
    "print(\"x_reshape is:\\n\", x_reshape)\n",
    "\n",
    "x_reshape[0, 0] = 8\n",
    "print(\"\\nx after update is:\\n\", x)\n",
    "print(\"x_reshape after update is:\\n\", x_reshape)"
   ]
  },
  {
   "cell_type": "code",
   "execution_count": 149,
   "id": "44d4238a-9b0d-4184-9b27-dd61e70a05ea",
   "metadata": {},
   "outputs": [
    {
     "name": "stdout",
     "output_type": "stream",
     "text": [
      "Before transpose: z\n",
      " [[1. 2.]\n",
      " [3. 4.]\n",
      " [5. 6.]]\n",
      "After transpose: z_transpose\n",
      " [[1. 3. 5.]\n",
      " [2. 4. 6.]]\n"
     ]
    }
   ],
   "source": [
    "# Transpose\n",
    "\n",
    "print(\"Before transpose: z\\n\", z)\n",
    "print(\"After transpose: z_transpose\\n\", z.T)"
   ]
  },
  {
   "cell_type": "code",
   "execution_count": 150,
   "id": "dbb58725-b309-4609-8923-ad891b54d7a8",
   "metadata": {},
   "outputs": [
    {
     "data": {
      "text/plain": [
       "array([ 1.42694756, -0.63922352, -0.1475202 ,  0.51774008, -0.92212722,\n",
       "        1.5460043 , -0.50479516,  2.06220832, -0.30946767,  2.53071768,\n",
       "       -2.21482189, -1.08983301,  1.16635618,  0.12281937, -0.10570932,\n",
       "       -1.02190947,  0.79031039,  2.89741797,  1.18726564, -0.96211293,\n",
       "        0.07983268,  0.64232487, -0.43568291, -2.33773244,  0.79679449,\n",
       "        1.62399043, -0.65862957, -0.12560636, -0.36073984,  0.35251136,\n",
       "        0.14866883,  0.01748972,  0.14184895, -1.24181301, -0.3937715 ,\n",
       "        0.05222315, -1.0921452 , -0.33985918, -0.50176914,  0.86889608,\n",
       "       -0.1074935 , -0.92269724,  0.29447727,  0.15328499,  0.43248056,\n",
       "        0.71730785,  0.3297095 , -0.32433669,  0.32975739,  0.73680695])"
      ]
     },
     "execution_count": 150,
     "metadata": {},
     "output_type": "execute_result"
    }
   ],
   "source": [
    "# Generate 50 independent random variables from a N(0,1) distribution\n",
    "# np.random.normal() returns mean: 0, std.dev: 1, size: 1 by default\n",
    "\n",
    "x = np.random.normal(size=50)\n",
    "x"
   ]
  },
  {
   "cell_type": "code",
   "execution_count": 151,
   "id": "e49b2cf6-e6fd-493a-9f96-637d0e106bb0",
   "metadata": {},
   "outputs": [
    {
     "data": {
      "text/plain": [
       "array([51.9177337 , 47.29951933, 51.32752334, 48.89037133, 49.97327467,\n",
       "       54.12881732, 50.07765726, 52.6332224 , 49.06493793, 52.56328704,\n",
       "       46.93451684, 47.27685737, 50.50937676, 50.07768532, 51.64755969,\n",
       "       49.33191392, 50.31394233, 51.82589042, 52.68343207, 48.21558946,\n",
       "       50.809045  , 49.802735  , 48.78058342, 46.1541702 , 51.16969542,\n",
       "       48.92862712, 51.7382979 , 49.79954415, 50.79331272, 51.34203601,\n",
       "       50.24051069, 51.23940386, 49.45401069, 50.31195667, 50.59902656,\n",
       "       51.3768281 , 49.75290721, 50.07161913, 47.86536115, 48.47573951,\n",
       "       50.14931936, 49.7194575 , 50.77515685, 51.88882929, 49.37720322,\n",
       "       52.02237302, 49.0528416 , 50.51553624, 51.08462161, 49.97109845])"
      ]
     },
     "execution_count": 151,
     "metadata": {},
     "output_type": "execute_result"
    }
   ],
   "source": [
    "# Adding N(50,1) random variable to each element of x\n",
    "\n",
    "y = x + np.random.normal(loc=50, scale=1, size=50)\n",
    "y"
   ]
  },
  {
   "cell_type": "code",
   "execution_count": 152,
   "id": "545f114d-5cea-483d-a211-cd1519297ae0",
   "metadata": {},
   "outputs": [
    {
     "data": {
      "text/plain": [
       "array([[1.        , 0.63336697],\n",
       "       [0.63336697, 1.        ]])"
      ]
     },
     "execution_count": 152,
     "metadata": {},
     "output_type": "execute_result"
    }
   ],
   "source": [
    "# Correlation maxtirx of x and y\n",
    "\n",
    "np.corrcoef(x, y)"
   ]
  },
  {
   "cell_type": "code",
   "execution_count": 153,
   "id": "addfb2a5-2baf-4e11-a81d-6a2cc3f1c5fb",
   "metadata": {},
   "outputs": [],
   "source": [
    "# Create a random number generator with seed\n",
    "\n",
    "rng = np.random.default_rng(20250)"
   ]
  },
  {
   "cell_type": "code",
   "execution_count": 154,
   "id": "df48c2ce-d0ea-42ac-aa0c-bce40a2ce306",
   "metadata": {},
   "outputs": [
    {
     "data": {
      "text/plain": [
       "array([ 1.39432303, -3.64227826])"
      ]
     },
     "execution_count": 154,
     "metadata": {},
     "output_type": "execute_result"
    }
   ],
   "source": [
    "# Generate normal data with rng\n",
    "\n",
    "rng.normal(scale=5, size=2)"
   ]
  },
  {
   "cell_type": "code",
   "execution_count": 155,
   "id": "34bfdf2a-de16-4188-9e35-693b50c52643",
   "metadata": {},
   "outputs": [],
   "source": [
    "# rng2 will generate the same normal data as rng\n",
    "\n",
    "rng2 = np.random.default_rng(20250)\n",
    "rng3 = np.random.default_rng()"
   ]
  },
  {
   "cell_type": "code",
   "execution_count": 156,
   "id": "ca754e01-0587-4930-af8c-f42933a85b85",
   "metadata": {},
   "outputs": [
    {
     "name": "stdout",
     "output_type": "stream",
     "text": [
      "[ 1.39432303 -3.64227826]\n",
      "[3.43816149 1.04671091]\n"
     ]
    }
   ],
   "source": [
    "print(rng2.normal(scale=5, size=2))\n",
    "print(rng3.normal(scale=5, size=2))"
   ]
  },
  {
   "cell_type": "code",
   "execution_count": 157,
   "id": "d9e1c5bf-a97d-4e47-a8b7-389c4982e56e",
   "metadata": {},
   "outputs": [
    {
     "name": "stdout",
     "output_type": "stream",
     "text": [
      "[ 2.04091912 -2.55566503  0.41809885 -0.56776961 -0.45264929 -0.21559716\n",
      " -2.01998613 -0.23193238 -0.86521308  3.32299952]\n"
     ]
    }
   ],
   "source": [
    "rng = np.random.default_rng(3)\n",
    "y = rng.standard_normal(10)\n",
    "print(y)"
   ]
  },
  {
   "cell_type": "code",
   "execution_count": 158,
   "id": "c2c4853a-6f5a-482e-9cbc-c4bf965dd235",
   "metadata": {},
   "outputs": [
    {
     "name": "stdout",
     "output_type": "stream",
     "text": [
      "Mean of y: -0.1126795190952861\n",
      "Mean of y: -0.1126795190952861\n"
     ]
    }
   ],
   "source": [
    "# Mean of y\n",
    "\n",
    "print(f\"Mean of y: {np.mean(y)}\")\n",
    "print(f\"Mean of y: {y.mean()}\")"
   ]
  },
  {
   "cell_type": "code",
   "execution_count": 159,
   "id": "bc881d00-8229-48e3-88ee-971dff9e38e0",
   "metadata": {},
   "outputs": [
    {
     "name": "stdout",
     "output_type": "stream",
     "text": [
      "Variance of y: 2.7243406406465125\n",
      "Variance of y: 2.7243406406465125\n",
      "Variance of y: 2.7243406406465125\n"
     ]
    }
   ],
   "source": [
    "# Variance of y\n",
    "\n",
    "print(f\"Variance of y: {np.var(y)}\")\n",
    "print(f\"Variance of y: {y.var()}\")\n",
    "print(f\"Variance of y: {np.mean((y-y.mean())**2)}\")"
   ]
  },
  {
   "cell_type": "code",
   "execution_count": 160,
   "id": "cddfe84d-d5b9-4160-a1d9-1e411386453b",
   "metadata": {},
   "outputs": [
    {
     "name": "stdout",
     "output_type": "stream",
     "text": [
      "Std. dev of y: 1.6505576756498128\n",
      "Std. dev of y: 1.6505576756498128\n"
     ]
    }
   ],
   "source": [
    "# Standard deviation of y\n",
    "\n",
    "print(f\"Std. dev of y: {np.sqrt(np.var(y))}\")\n",
    "print(f\"Std. dev of y: {np.std(y)}\")"
   ]
  },
  {
   "cell_type": "code",
   "execution_count": 161,
   "id": "e99b911c-500e-4e16-b4b8-a8ff69e9803e",
   "metadata": {},
   "outputs": [
    {
     "data": {
      "text/plain": [
       "array([[ 0.22578661, -0.35263079, -0.28128742],\n",
       "       [-0.66804635, -1.05515055, -0.39080098],\n",
       "       [ 0.48194539, -0.23855361,  0.9577587 ],\n",
       "       [-0.19980213,  0.02425957,  1.54582085],\n",
       "       [ 0.54510552, -0.50522874, -0.18283897],\n",
       "       [ 0.54052513,  1.93508803, -0.26962033],\n",
       "       [-0.24355868,  1.0023136 , -0.88645994],\n",
       "       [-0.29172023,  0.88253897,  0.58035002],\n",
       "       [ 0.0915167 ,  0.67010435, -2.82816231],\n",
       "       [ 1.02130682, -0.95964476, -1.66861984]])"
      ]
     },
     "execution_count": 161,
     "metadata": {},
     "output_type": "execute_result"
    }
   ],
   "source": [
    "# np.mean(), np.var(), np.std() on rows and cols of a matrix\n",
    "\n",
    "X = rng.standard_normal((10, 3))\n",
    "X"
   ]
  },
  {
   "cell_type": "code",
   "execution_count": 162,
   "id": "8b718187-3b6a-40fd-8f4d-0734314d4bda",
   "metadata": {},
   "outputs": [
    {
     "name": "stdout",
     "output_type": "stream",
     "text": [
      "[ 0.15030588  0.14030961 -0.34238602]\n",
      "[ 0.15030588  0.14030961 -0.34238602]\n"
     ]
    }
   ],
   "source": [
    "# axis=0 : column-wise calculation\n",
    "# Operates down rows\n",
    "# Applies to each column\n",
    "\n",
    "print(X.mean(axis=0))\n",
    "print(X.mean(0))"
   ]
  },
  {
   "cell_type": "code",
   "execution_count": 163,
   "id": "deaa78d4-b65c-42f4-b293-f4582f06831c",
   "metadata": {},
   "outputs": [
    {
     "name": "stdout",
     "output_type": "stream",
     "text": [
      "[-0.13604387 -0.70466596  0.40038349  0.45675943 -0.04765406  0.73533095\n",
      " -0.04256834  0.39038958 -0.68884708 -0.53565259]\n",
      "[-0.13604387 -0.70466596  0.40038349  0.45675943 -0.04765406  0.73533095\n",
      " -0.04256834  0.39038958 -0.68884708 -0.53565259]\n"
     ]
    }
   ],
   "source": [
    "# axis=1 : row-wise calculation\n",
    "# Operates across columns\n",
    "# Applies to each row\n",
    "\n",
    "print(X.mean(axis=1))\n",
    "print(X.mean(1))"
   ]
  },
  {
   "cell_type": "code",
   "execution_count": null,
   "id": "9eec4908-35dd-4e2e-a536-1e267a2c38a5",
   "metadata": {},
   "outputs": [],
   "source": []
  }
 ],
 "metadata": {
  "kernelspec": {
   "display_name": "Python 3 (ipykernel)",
   "language": "python",
   "name": "python3"
  },
  "language_info": {
   "codemirror_mode": {
    "name": "ipython",
    "version": 3
   },
   "file_extension": ".py",
   "mimetype": "text/x-python",
   "name": "python",
   "nbconvert_exporter": "python",
   "pygments_lexer": "ipython3",
   "version": "3.13.2"
  }
 },
 "nbformat": 4,
 "nbformat_minor": 5
}
