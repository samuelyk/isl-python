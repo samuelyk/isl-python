{
 "cells": [
  {
   "cell_type": "code",
   "execution_count": 1,
   "id": "529643fb-ea44-4109-8f53-149c619ab788",
   "metadata": {},
   "outputs": [],
   "source": [
    "# 2.3.6 Indexing Data"
   ]
  },
  {
   "cell_type": "code",
   "execution_count": 2,
   "id": "007481ed-3e4a-47f6-98db-1644faa1b27a",
   "metadata": {},
   "outputs": [],
   "source": [
    "import numpy as np"
   ]
  },
  {
   "cell_type": "code",
   "execution_count": 3,
   "id": "44d4079b-c738-490d-97de-2f78e74bafe9",
   "metadata": {},
   "outputs": [
    {
     "data": {
      "text/plain": [
       "array([[ 0,  1,  2,  3],\n",
       "       [ 4,  5,  6,  7],\n",
       "       [ 8,  9, 10, 11],\n",
       "       [12, 13, 14, 15]])"
      ]
     },
     "execution_count": 3,
     "metadata": {},
     "output_type": "execute_result"
    }
   ],
   "source": [
    "# Create a two-dimensional array\n",
    "\n",
    "A = np.array(np.arange(16)).reshape((4,4))\n",
    "A"
   ]
  },
  {
   "cell_type": "code",
   "execution_count": 8,
   "id": "ea126d56-88e6-4d76-b087-20be01de9a49",
   "metadata": {},
   "outputs": [
    {
     "name": "stdout",
     "output_type": "stream",
     "text": [
      "6\n"
     ]
    }
   ],
   "source": [
    "# Get a value from the second row & third column\n",
    "\n",
    "print(A[1,2])"
   ]
  },
  {
   "cell_type": "code",
   "execution_count": 9,
   "id": "13684040-3392-4108-9d90-847deb68c8a1",
   "metadata": {},
   "outputs": [
    {
     "name": "stdout",
     "output_type": "stream",
     "text": [
      "[[ 4  5  6  7]\n",
      " [12 13 14 15]]\n"
     ]
    }
   ],
   "source": [
    "# Get 2nd and 4th rows\n",
    "\n",
    "print(A[[1,3]])"
   ]
  },
  {
   "cell_type": "code",
   "execution_count": 10,
   "id": "908475c4-fb94-4d88-b4bf-bcf602be0b84",
   "metadata": {},
   "outputs": [
    {
     "name": "stdout",
     "output_type": "stream",
     "text": [
      "[[ 0  2]\n",
      " [ 4  6]\n",
      " [ 8 10]\n",
      " [12 14]]\n"
     ]
    }
   ],
   "source": [
    "# Get 1st and 3rd cols\n",
    "\n",
    "print(A[:,[0,2]])"
   ]
  },
  {
   "cell_type": "code",
   "execution_count": 17,
   "id": "9d218eb7-3720-439e-9dc4-58b90260b025",
   "metadata": {},
   "outputs": [
    {
     "name": "stdout",
     "output_type": "stream",
     "text": [
      "[[ 4  6]\n",
      " [12 14]]\n"
     ]
    }
   ],
   "source": [
    "# Select submatrix from the 2nd & 4th rows and 1st & 3rd cols\n",
    "\n",
    "print(A[[1,3]][:,[0,2]])"
   ]
  },
  {
   "cell_type": "code",
   "execution_count": 45,
   "id": "94c5f0f0-ce0b-494e-8b80-16d07ed64194",
   "metadata": {},
   "outputs": [
    {
     "data": {
      "text/plain": [
       "array([[ 4,  6],\n",
       "       [12, 14]])"
      ]
     },
     "execution_count": 45,
     "metadata": {},
     "output_type": "execute_result"
    }
   ],
   "source": [
    "# Select submatrix using np.ix_()\n",
    "# np.ix_() returns a mesh object\n",
    "\n",
    "idx = np.ix_([1,3],[0,2])\n",
    "A[idx]"
   ]
  },
  {
   "cell_type": "code",
   "execution_count": 21,
   "id": "36c92465-7f56-4322-90cd-28514082c6c9",
   "metadata": {},
   "outputs": [
    {
     "data": {
      "text/plain": [
       "array([[ 4,  6],\n",
       "       [12, 14]])"
      ]
     },
     "execution_count": 21,
     "metadata": {},
     "output_type": "execute_result"
    }
   ],
   "source": [
    "# Select submatrix using slice\n",
    "\n",
    "A[1:4:2, 0:3:2]"
   ]
  },
  {
   "cell_type": "code",
   "execution_count": 22,
   "id": "b91adbe6-e4c6-4b5a-b490-ca59ad6bb6f8",
   "metadata": {},
   "outputs": [
    {
     "data": {
      "text/plain": [
       "array([False, False, False, False])"
      ]
     },
     "execution_count": 22,
     "metadata": {},
     "output_type": "execute_result"
    }
   ],
   "source": [
    "# Boolean Indexing\n",
    "# Create a vector of 0's, represented as Booleans\n",
    "\n",
    "keep_rows = np.zeros(A.shape[0], bool)\n",
    "keep_rows"
   ]
  },
  {
   "cell_type": "code",
   "execution_count": 23,
   "id": "7928d309-eeb3-4403-921e-eb96d74c2ba9",
   "metadata": {},
   "outputs": [
    {
     "data": {
      "text/plain": [
       "array([False,  True, False,  True])"
      ]
     },
     "execution_count": 23,
     "metadata": {},
     "output_type": "execute_result"
    }
   ],
   "source": [
    "keep_rows[[1,3]] = True\n",
    "keep_rows"
   ]
  },
  {
   "cell_type": "code",
   "execution_count": 25,
   "id": "59812ec1-14ab-43f6-b800-b816c07c6d3d",
   "metadata": {},
   "outputs": [
    {
     "data": {
      "text/plain": [
       "array([ True,  True,  True,  True])"
      ]
     },
     "execution_count": 25,
     "metadata": {},
     "output_type": "execute_result"
    }
   ],
   "source": [
    "# True == 1\n",
    "# False == 0\n",
    "\n",
    "keep_rows == np.array([0, 1, 0, 1])"
   ]
  },
  {
   "cell_type": "code",
   "execution_count": 32,
   "id": "1db3dd2b-9a8e-48f5-a456-f1e6be2f601c",
   "metadata": {},
   "outputs": [
    {
     "name": "stdout",
     "output_type": "stream",
     "text": [
      "False\n",
      "True\n",
      "False\n"
     ]
    }
   ],
   "source": [
    "# np.all(): True if all entries are True (or non-zero)\n",
    "\n",
    "print(np.all(keep_rows))\n",
    "print(np.all(np.array([1, 2, 3])))\n",
    "print(np.all(np.array([0, 0, 0])))"
   ]
  },
  {
   "cell_type": "code",
   "execution_count": 35,
   "id": "71ebd576-3a15-4082-a6c0-1bfc0013692d",
   "metadata": {},
   "outputs": [
    {
     "name": "stdout",
     "output_type": "stream",
     "text": [
      "True\n",
      "True\n",
      "False\n"
     ]
    }
   ],
   "source": [
    "# np.any(): True if any entry is True (or non-zero)\n",
    "\n",
    "print(np.any(keep_rows))\n",
    "print(np.any(np.array([4, 0, 0])))\n",
    "print(np.any(np.array([0, 0, 0])))"
   ]
  },
  {
   "cell_type": "code",
   "execution_count": 42,
   "id": "df007e3c-060e-403b-87e0-0c1d6198f1fd",
   "metadata": {},
   "outputs": [
    {
     "name": "stdout",
     "output_type": "stream",
     "text": [
      "[[0 1 2 3]\n",
      " [4 5 6 7]\n",
      " [0 1 2 3]\n",
      " [4 5 6 7]] \n",
      "\n",
      "[[ 4  5  6  7]\n",
      " [12 13 14 15]]\n"
     ]
    }
   ],
   "source": [
    "# np.array([0, 1, 0, 1]) and keep_rows: np.array([False, True, False, True])\n",
    "# return differnt sets of rows\n",
    "\n",
    "# Returns 1st, 2nd, 1st, 2nd rows of A\n",
    "print(A[np.array([0,1,0,1])], '\\n')\n",
    "\n",
    "# Returns 2nd and 4th rows of A\n",
    "print(A[keep_rows])"
   ]
  },
  {
   "cell_type": "code",
   "execution_count": 49,
   "id": "fac28ce6-c50f-42c9-8971-5aa7010dc0b8",
   "metadata": {},
   "outputs": [
    {
     "data": {
      "text/plain": [
       "array([[ 4,  6,  7],\n",
       "       [12, 14, 15]])"
      ]
     },
     "execution_count": 49,
     "metadata": {},
     "output_type": "execute_result"
    }
   ],
   "source": [
    "# Get submatrix of A with np.ix_()\n",
    "# 2nd & 4th rows and 1st & 3rd & 4th cols of A\n",
    "\n",
    "keep_cols = np.zeros(A.shape[1], bool)\n",
    "keep_cols[[0, 2, 3]] = True\n",
    "idx_bool = np.ix_(keep_rows, keep_cols)\n",
    "A[idx_bool]"
   ]
  },
  {
   "cell_type": "code",
   "execution_count": 50,
   "id": "df1c1036-8429-402a-aa24-f65a4e94b9ec",
   "metadata": {},
   "outputs": [
    {
     "data": {
      "text/plain": [
       "array([[ 4,  6,  7],\n",
       "       [12, 14, 15]])"
      ]
     },
     "execution_count": 50,
     "metadata": {},
     "output_type": "execute_result"
    }
   ],
   "source": [
    "idx_mixed = np.ix_([1,3], keep_cols)\n",
    "A[idx_mixed]"
   ]
  }
 ],
 "metadata": {
  "kernelspec": {
   "display_name": "Python 3 (ipykernel)",
   "language": "python",
   "name": "python3"
  },
  "language_info": {
   "codemirror_mode": {
    "name": "ipython",
    "version": 3
   },
   "file_extension": ".py",
   "mimetype": "text/x-python",
   "name": "python",
   "nbconvert_exporter": "python",
   "pygments_lexer": "ipython3",
   "version": "3.13.2"
  }
 },
 "nbformat": 4,
 "nbformat_minor": 5
}
