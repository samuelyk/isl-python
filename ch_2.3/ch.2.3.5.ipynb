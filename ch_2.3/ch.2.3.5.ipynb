{
 "cells": [
  {
   "cell_type": "code",
   "execution_count": 1,
   "id": "534c41f0-2802-4608-ba9d-115aadbb5732",
   "metadata": {},
   "outputs": [],
   "source": [
    "# 2.3.5 Sequences and Slice Notation"
   ]
  },
  {
   "cell_type": "code",
   "execution_count": 2,
   "id": "6f4a92e9-acaa-4629-9652-2a96a6d8620d",
   "metadata": {},
   "outputs": [],
   "source": [
    "import numpy as np"
   ]
  },
  {
   "cell_type": "code",
   "execution_count": 4,
   "id": "18850753-c236-4025-9141-0fd577c5b643",
   "metadata": {},
   "outputs": [
    {
     "data": {
      "text/plain": [
       "array([ 0.,  1.,  2.,  3.,  4.,  5.,  6.,  7.,  8.,  9., 10.])"
      ]
     },
     "execution_count": 4,
     "metadata": {},
     "output_type": "execute_result"
    }
   ],
   "source": [
    "# np.linspace() generates a sequence of numbers\n",
    "\n",
    "seq1 = np.linspace(0, 10, 11)\n",
    "seq1"
   ]
  },
  {
   "cell_type": "code",
   "execution_count": 5,
   "id": "69b832c3-7dfa-4988-8431-37e53de564ce",
   "metadata": {},
   "outputs": [
    {
     "data": {
      "text/plain": [
       "array([0, 1, 2, 3, 4, 5, 6, 7, 8, 9])"
      ]
     },
     "execution_count": 5,
     "metadata": {},
     "output_type": "execute_result"
    }
   ],
   "source": [
    "# np.arange() returns a sequence of numbers spaced out by step\n",
    "# Default step value is 1\n",
    "\n",
    "seq2 = np.arange(0, 10)\n",
    "seq2"
   ]
  },
  {
   "cell_type": "code",
   "execution_count": 8,
   "id": "428b0088-cfd6-4cca-ac5f-ac8d72c065f4",
   "metadata": {},
   "outputs": [
    {
     "data": {
      "text/plain": [
       "'lo '"
      ]
     },
     "execution_count": 8,
     "metadata": {},
     "output_type": "execute_result"
    }
   ],
   "source": [
    "\"hello world\"[3:6]"
   ]
  },
  {
   "cell_type": "code",
   "execution_count": 9,
   "id": "c2e065eb-fdc5-4027-ad6e-6b8e23280adb",
   "metadata": {},
   "outputs": [
    {
     "data": {
      "text/plain": [
       "'lo '"
      ]
     },
     "execution_count": 9,
     "metadata": {},
     "output_type": "execute_result"
    }
   ],
   "source": [
    "\"hello world\"[slice(3,6)]"
   ]
  }
 ],
 "metadata": {
  "kernelspec": {
   "display_name": "Python 3 (ipykernel)",
   "language": "python",
   "name": "python3"
  },
  "language_info": {
   "codemirror_mode": {
    "name": "ipython",
    "version": 3
   },
   "file_extension": ".py",
   "mimetype": "text/x-python",
   "name": "python",
   "nbconvert_exporter": "python",
   "pygments_lexer": "ipython3",
   "version": "3.13.2"
  }
 },
 "nbformat": 4,
 "nbformat_minor": 5
}
